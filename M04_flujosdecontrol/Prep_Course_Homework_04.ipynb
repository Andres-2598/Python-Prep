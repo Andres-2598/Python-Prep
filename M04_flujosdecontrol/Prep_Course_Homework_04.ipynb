{
 "cells": [
  {
   "attachments": {},
   "cell_type": "markdown",
   "metadata": {},
   "source": [
    "## Flujos de Control"
   ]
  },
  {
   "attachments": {},
   "cell_type": "markdown",
   "metadata": {},
   "source": [
    "1) Crear una variable que contenga un elemento del conjunto de números enteros y luego imprimir por pantalla si es mayor o menor a cero"
   ]
  },
  {
   "cell_type": "code",
   "execution_count": 1,
   "metadata": {},
   "outputs": [
    {
     "name": "stdout",
     "output_type": "stream",
     "text": [
      "la variable es mayor que  0\n"
     ]
    }
   ],
   "source": [
    "var=8\n",
    "if (var > 0):\n",
    "    print(\"la variable es mayor que  0\")\n",
    "elif (var < 0):\n",
    "    print(\"la variable es menor que 0\")\n",
    "else: \n",
    "    print(\"la variable es igual a 0\")"
   ]
  },
  {
   "attachments": {},
   "cell_type": "markdown",
   "metadata": {},
   "source": [
    "2) Crear dos variables y un condicional que informe si son del mismo tipo de dato"
   ]
  },
  {
   "cell_type": "code",
   "execution_count": 2,
   "metadata": {},
   "outputs": [
    {
     "name": "stdout",
     "output_type": "stream",
     "text": [
      "las variables son de diferentes tipo\n"
     ]
    }
   ],
   "source": [
    "var1=\"hola\"\n",
    "var2=2\n",
    "if (type(var1) == type(var2)):\n",
    "    print(\"las variabes son de tipos iguales\")\n",
    "else:\n",
    "    print(\"las variables son de diferentes tipo\")\n"
   ]
  },
  {
   "attachments": {},
   "cell_type": "markdown",
   "metadata": {},
   "source": [
    "3) Para los valores enteros del 1 al 20, imprimir por pantalla si es par o impar"
   ]
  },
  {
   "cell_type": "code",
   "execution_count": 3,
   "metadata": {},
   "outputs": [
    {
     "name": "stdout",
     "output_type": "stream",
     "text": [
      "el numero  1 es impar\n",
      "el numero  2 es par\n",
      "el numero  3 es impar\n",
      "el numero  4 es par\n",
      "el numero  5 es impar\n",
      "el numero  6 es par\n",
      "el numero  7 es impar\n",
      "el numero  8 es par\n",
      "el numero  9 es impar\n",
      "el numero  10 es par\n",
      "el numero  11 es impar\n",
      "el numero  12 es par\n",
      "el numero  13 es impar\n",
      "el numero  14 es par\n",
      "el numero  15 es impar\n",
      "el numero  16 es par\n",
      "el numero  17 es impar\n",
      "el numero  18 es par\n",
      "el numero  19 es impar\n",
      "el numero  20 es par\n"
     ]
    }
   ],
   "source": [
    "for i in range(1, 21):\n",
    "    if i % 2 == 0:\n",
    "        print(\"el numero \", str(i), \"es par\")\n",
    "    else:\n",
    "        print(\"el numero \", str(i), \"es impar\")"
   ]
  },
  {
   "cell_type": "code",
   "execution_count": 4,
   "metadata": {},
   "outputs": [
    {
     "name": "stdout",
     "output_type": "stream",
     "text": [
      "1 no son divisores de 3\n",
      "2 no son divisores de 3\n",
      "3  son divisores de 3\n",
      "4 no son divisores de 3\n",
      "5 no son divisores de 3\n",
      "6  son divisores de 3\n",
      "7 no son divisores de 3\n",
      "8 no son divisores de 3\n",
      "9  son divisores de 3\n",
      "10 no son divisores de 3\n",
      "11 no son divisores de 3\n",
      "12  son divisores de 3\n",
      "13 no son divisores de 3\n",
      "14 no son divisores de 3\n",
      "15  son divisores de 3\n",
      "16 no son divisores de 3\n",
      "17 no son divisores de 3\n",
      "18  son divisores de 3\n",
      "19 no son divisores de 3\n",
      "20 no son divisores de 3\n"
     ]
    }
   ],
   "source": [
    "for i in range(1, 21):\n",
    "    if i % 3 ==0:\n",
    "        print(str(i), \" son divisores de 3\" )\n",
    "    else:\n",
    "        print(str(i), \"no son divisores de 3\")"
   ]
  },
  {
   "cell_type": "code",
   "execution_count": 5,
   "metadata": {},
   "outputs": [
    {
     "name": "stdout",
     "output_type": "stream",
     "text": [
      "El numero 1 es impar\n",
      "El numero 2 es par\n",
      "El numero 3 es impar\n",
      "El numero 4 es par\n",
      "El numero 5 es impar\n",
      "El numero 6 es par\n",
      "El numero 7 es impar\n",
      "El numero 8 es par\n",
      "El numero 9 es impar\n",
      "El numero 10 es par\n",
      "El numero 11 es impar\n",
      "El numero 12 es par\n",
      "El numero 13 es impar\n",
      "El numero 14 es par\n",
      "El numero 15 es impar\n",
      "El numero 16 es par\n",
      "El numero 17 es impar\n",
      "El numero 18 es par\n",
      "El numero 19 es impar\n",
      "El numero 20 es par\n"
     ]
    }
   ],
   "source": [
    "# resuelto con while\n",
    "\n",
    "i = 1\n",
    "while (i <= 20):\n",
    "    if (i % 2 == 0):\n",
    "        print(f'El numero {i} es par')\n",
    "    else:\n",
    "        print(f'El numero {i} es impar')\n",
    "    i = i + 1"
   ]
  },
  {
   "attachments": {},
   "cell_type": "markdown",
   "metadata": {},
   "source": [
    "4) En un ciclo for mostrar para los valores entre 0 y 5 el resultado de elevarlo a la potencia igual a 3"
   ]
  },
  {
   "cell_type": "code",
   "execution_count": 6,
   "metadata": {},
   "outputs": [
    {
     "name": "stdout",
     "output_type": "stream",
     "text": [
      "el valor de  0 elevado ala 3potencia 0\n",
      "el valor de  1 elevado ala 3potencia 1\n",
      "el valor de  2 elevado ala 3potencia 8\n",
      "el valor de  3 elevado ala 3potencia 27\n",
      "el valor de  4 elevado ala 3potencia 64\n",
      "el valor de  5 elevado ala 3potencia 125\n"
     ]
    }
   ],
   "source": [
    "for i in range(0, 6):\n",
    "    print( \"el valor de \", str(i), \"elevado ala 3potencia\", str(i**3))"
   ]
  },
  {
   "cell_type": "code",
   "execution_count": 7,
   "metadata": {},
   "outputs": [
    {
     "name": "stdout",
     "output_type": "stream",
     "text": [
      "valor: 0 valor potenciado 0\n",
      "valor: 1 valor potenciado 1\n",
      "valor: 2 valor potenciado 32\n",
      "valor: 3 valor potenciado 243\n"
     ]
    }
   ],
   "source": [
    "for i in range(0,4):\n",
    "    print(\"valor:\", str(i), \"valor potenciado\", str(i**5))"
   ]
  },
  {
   "attachments": {},
   "cell_type": "markdown",
   "metadata": {},
   "source": [
    "5) Crear una variable que contenga un número entero y realizar un ciclo for la misma cantidad de ciclos"
   ]
  },
  {
   "cell_type": "code",
   "execution_count": 8,
   "metadata": {},
   "outputs": [
    {
     "name": "stdout",
     "output_type": "stream",
     "text": [
      "6\n"
     ]
    }
   ],
   "source": [
    "var=7\n",
    "for i in range(0,var):\n",
    "    pass\n",
    "print(i)"
   ]
  },
  {
   "attachments": {},
   "cell_type": "markdown",
   "metadata": {},
   "source": [
    "6) Utilizar un ciclo while para realizar el factorial de un número guardado en una variable, sólo si la variable contiene un número entero mayor a 0"
   ]
  },
  {
   "cell_type": "code",
   "execution_count": 9,
   "metadata": {},
   "outputs": [
    {
     "name": "stdout",
     "output_type": "stream",
     "text": [
      "el factorial es  5040\n"
     ]
    }
   ],
   "source": [
    "var=7\n",
    "if type(var) == int:\n",
    "    if (var > 0):\n",
    "        factorial= var\n",
    "        while (var > 2):\n",
    "            var = var-1\n",
    "            factorial=factorial * var\n",
    "        print(\"el factorial es \", factorial)\n",
    "    else:\n",
    "        print(\"la variable no es mayo que 0\")\n",
    "else:\n",
    "    print(\"la variable no es un entero\")"
   ]
  },
  {
   "cell_type": "code",
   "execution_count": 10,
   "metadata": {},
   "outputs": [
    {
     "name": "stdout",
     "output_type": "stream",
     "text": [
      "el factorial es  5040\n"
     ]
    }
   ],
   "source": [
    "numero = 7\n",
    "factorial = 1\n",
    "for i in range(2, (numero + 1)):\n",
    "    factorial = i * factorial\n",
    "print(\"el factorial es \", factorial)"
   ]
  },
  {
   "attachments": {},
   "cell_type": "markdown",
   "metadata": {},
   "source": [
    "7) Crear un ciclo for dentro de un ciclo while"
   ]
  },
  {
   "cell_type": "code",
   "execution_count": 11,
   "metadata": {},
   "outputs": [
    {
     "name": "stdout",
     "output_type": "stream",
     "text": [
      "numero de ciclo de wile 1\n",
      "numero de ciclo de for 1\n",
      "numero de ciclo de wile 2\n",
      "numero de ciclo de for 1\n",
      "numero de ciclo de for 2\n",
      "numero de ciclo de wile 3\n",
      "numero de ciclo de for 1\n",
      "numero de ciclo de for 2\n",
      "numero de ciclo de for 3\n",
      "numero de ciclo de wile 4\n",
      "numero de ciclo de for 1\n",
      "numero de ciclo de for 2\n",
      "numero de ciclo de for 3\n",
      "numero de ciclo de for 4\n"
     ]
    }
   ],
   "source": [
    "var=1\n",
    "while var<5:\n",
    "    print(\"numero de ciclo de wile\", str(var)) # Imprime el número del ciclo while\n",
    "    for i in range(1, var+1):\n",
    "        print(\"numero de ciclo de for\", str(i))\n",
    "    var+=1"
   ]
  },
  {
   "attachments": {},
   "cell_type": "markdown",
   "metadata": {},
   "source": [
    "8) Crear un ciclo while dentro de un ciclo for"
   ]
  },
  {
   "cell_type": "code",
   "execution_count": 12,
   "metadata": {},
   "outputs": [],
   "source": [
    "var=5\n",
    "for i in range(1,var):\n",
    "    while (var < 5):\n",
    "        var -= 1\n",
    "        print(\"ciclo while numero\" + str(var))\n",
    "        print(\"ciclo for numero\" + str(i))"
   ]
  },
  {
   "cell_type": "code",
   "execution_count": 13,
   "metadata": {},
   "outputs": [
    {
     "name": "stdout",
     "output_type": "stream",
     "text": [
      "Ciclo for nro 1\n",
      "Ciclo while nro 5\n",
      "Ciclo while nro 4\n",
      "Ciclo while nro 3\n",
      "Ciclo while nro 2\n",
      "Ciclo while nro 1\n",
      "Ciclo for nro 2\n",
      "Ciclo while nro 5\n",
      "Ciclo while nro 4\n",
      "Ciclo while nro 3\n",
      "Ciclo while nro 2\n",
      "Ciclo while nro 1\n",
      "Ciclo for nro 3\n",
      "Ciclo while nro 5\n",
      "Ciclo while nro 4\n",
      "Ciclo while nro 3\n",
      "Ciclo while nro 2\n",
      "Ciclo while nro 1\n",
      "Ciclo for nro 4\n",
      "Ciclo while nro 5\n",
      "Ciclo while nro 4\n",
      "Ciclo while nro 3\n",
      "Ciclo while nro 2\n",
      "Ciclo while nro 1\n"
     ]
    }
   ],
   "source": [
    "n = 5\n",
    "for i in range(1, n):\n",
    "    print('Ciclo for nro ' + str(i))  # Imprime el número del ciclo for\n",
    "    \n",
    "    n_temp = n  # Almacena el valor original de n en una variable temporal\n",
    "    \n",
    "    while n_temp > 0:  # Ciclo while que se ejecuta mientras n_temp sea mayor que 0\n",
    "        print('Ciclo while nro ' + str(n_temp))  # Imprime el número del ciclo while\n",
    "        n_temp -= 1\n",
    "        \n",
    "        if n_temp <= 0:\n",
    "            break  # Sale del ciclo while cuando n_temp sea menor o igual a 0"
   ]
  },
  {
   "attachments": {},
   "cell_type": "markdown",
   "metadata": {},
   "source": [
    "9) Imprimir los números primos existentes entre 0 y 30"
   ]
  },
  {
   "cell_type": "code",
   "execution_count": 14,
   "metadata": {},
   "outputs": [
    {
     "name": "stdout",
     "output_type": "stream",
     "text": [
      "0\n",
      "1\n",
      "2\n",
      "3\n",
      "5\n",
      "7\n",
      "11\n",
      "13\n",
      "17\n",
      "19\n",
      "23\n",
      "29\n"
     ]
    }
   ],
   "source": [
    "rango=30\n",
    "n=0\n",
    "primo= True\n",
    "while (n < rango):\n",
    "    for div in range(2, n):\n",
    "        if ( n % div ==0):\n",
    "            primo=False\n",
    "    if (primo):\n",
    "            print(n)\n",
    "    else:\n",
    "         primo=True\n",
    "    n+=1"
   ]
  },
  {
   "attachments": {},
   "cell_type": "markdown",
   "metadata": {},
   "source": [
    "10) ¿Se puede mejorar el proceso del punto 9? Utilizar las sentencias break y/ó continue para tal fin"
   ]
  },
  {
   "cell_type": "code",
   "execution_count": 15,
   "metadata": {},
   "outputs": [
    {
     "name": "stdout",
     "output_type": "stream",
     "text": [
      "0\n",
      "1\n",
      "2\n",
      "3\n",
      "5\n",
      "7\n",
      "11\n",
      "13\n",
      "17\n",
      "19\n",
      "23\n",
      "29\n"
     ]
    }
   ],
   "source": [
    "rango=30\n",
    "n=0\n",
    "primo=True\n",
    "while (n<rango):\n",
    "    for div in range(2, n):\n",
    "        if (n % div == 0):\n",
    "            primo = False\n",
    "            break\n",
    "    if (primo):\n",
    "        print(n)\n",
    "    else:\n",
    "        primo= True\n",
    "    n +=1"
   ]
  },
  {
   "attachments": {},
   "cell_type": "markdown",
   "metadata": {},
   "source": [
    "11) En los puntos 9 y 10, se diseño un código que encuentra números primos y además se lo optimizó. ¿Es posible saber en qué medida se optimizó?"
   ]
  },
  {
   "cell_type": "code",
   "execution_count": 16,
   "metadata": {},
   "outputs": [
    {
     "name": "stdout",
     "output_type": "stream",
     "text": [
      "0\n",
      "1\n",
      "2\n",
      "3\n",
      "5\n",
      "7\n",
      "11\n",
      "13\n",
      "17\n",
      "19\n",
      "23\n",
      "29\n",
      "cantidad de ciclos 378\n"
     ]
    }
   ],
   "source": [
    "sin_break=0\n",
    "rango=30\n",
    "n=0\n",
    "primo=True\n",
    "while (n < rango):\n",
    "    for div in range(2, n):\n",
    "        sin_break +=1\n",
    "        if (n % div == 0):\n",
    "            primo=False\n",
    "    if (primo):\n",
    "        print(n)\n",
    "    else:\n",
    "        primo=True\n",
    "    n+=1\n",
    "print(\"cantidad de ciclos \" + str(sin_break))"
   ]
  },
  {
   "attachments": {},
   "cell_type": "markdown",
   "metadata": {},
   "source": [
    "12) Aplicando continue, armar un ciclo while que solo imprima los valores divisibles por 12, dentro del rango de números de 100 a 300"
   ]
  },
  {
   "cell_type": "code",
   "execution_count": 17,
   "metadata": {},
   "outputs": [
    {
     "name": "stdout",
     "output_type": "stream",
     "text": [
      "108 es dividible por 12\n",
      "120 es dividible por 12\n",
      "132 es dividible por 12\n",
      "144 es dividible por 12\n",
      "156 es dividible por 12\n",
      "168 es dividible por 12\n",
      "180 es dividible por 12\n",
      "192 es dividible por 12\n",
      "204 es dividible por 12\n",
      "216 es dividible por 12\n",
      "228 es dividible por 12\n",
      "240 es dividible por 12\n",
      "252 es dividible por 12\n",
      "264 es dividible por 12\n",
      "276 es dividible por 12\n",
      "288 es dividible por 12\n",
      "300 es dividible por 12\n"
     ]
    }
   ],
   "source": [
    "n= 99\n",
    "\n",
    "while(n<=300):\n",
    "    n+=1\n",
    "    if(n%12!=0):\n",
    "        continue\n",
    "    print(n, \"es dividible por 12\")"
   ]
  },
  {
   "cell_type": "code",
   "execution_count": 18,
   "metadata": {},
   "outputs": [
    {
     "name": "stdout",
     "output_type": "stream",
     "text": [
      "200 esdivisible por 20\n",
      "220 esdivisible por 20\n",
      "240 esdivisible por 20\n",
      "260 esdivisible por 20\n",
      "280 esdivisible por 20\n",
      "300 esdivisible por 20\n"
     ]
    }
   ],
   "source": [
    "n=199\n",
    "d=300\n",
    "while(n<=d):\n",
    "    n+=1\n",
    "    if(n % 20 !=0):\n",
    "        continue\n",
    "    print(n, \"esdivisible por 20\")"
   ]
  },
  {
   "attachments": {},
   "cell_type": "markdown",
   "metadata": {},
   "source": [
    "13) Utilizar la función **input()** que permite hacer ingresos por teclado, para encontrar números primos y dar la opción al usario de buscar el siguiente"
   ]
  },
  {
   "cell_type": "code",
   "execution_count": 2,
   "metadata": {},
   "outputs": [
    {
     "name": "stdout",
     "output_type": "stream",
     "text": [
      "1\n",
      "¿Desea encotar el siguiente numero primo? \n"
     ]
    },
    {
     "name": "stdout",
     "output_type": "stream",
     "text": [
      "2\n",
      "¿Desea encotar el siguiente numero primo? \n",
      "3\n",
      "¿Desea encotar el siguiente numero primo? \n",
      "5\n",
      "¿Desea encotar el siguiente numero primo? \n",
      "se finaliza el proceso\n"
     ]
    }
   ],
   "source": [
    "n=1\n",
    "sigue=1\n",
    "primo=True\n",
    "while (sigue==1):\n",
    "    for div in range(2, n):\n",
    "        if (n%div ==0):\n",
    "            primo=False\n",
    "            break\n",
    "    if(primo):\n",
    "        print(n)\n",
    "        print(\"¿Desea encotar el siguiente numero primo? \")\n",
    "        if (input()!=\"1\"):\n",
    "            print(\"se finaliza el proceso\")\n",
    "            break\n",
    "    else:\n",
    "        primo=True\n",
    "    n+=1"
   ]
  },
  {
   "attachments": {},
   "cell_type": "markdown",
   "metadata": {},
   "source": [
    "14) Crear un ciclo while que encuentre dentro del rango de 100 a 300 el primer número divisible por 3 y además múltiplo de 6"
   ]
  },
  {
   "cell_type": "code",
   "execution_count": 2,
   "metadata": {},
   "outputs": [
    {
     "name": "stdout",
     "output_type": "stream",
     "text": [
      "el numero es  102\n"
     ]
    }
   ],
   "source": [
    "var=100\n",
    "while (var<=300):\n",
    "    if(var % 6 == 0):\n",
    "        print(\"el numero es \", str(var))\n",
    "        break\n",
    "    var+=1"
   ]
  },
  {
   "cell_type": "code",
   "execution_count": 5,
   "metadata": {},
   "outputs": [
    {
     "name": "stdout",
     "output_type": "stream",
     "text": [
      "el numero es  204\n"
     ]
    }
   ],
   "source": [
    "rango=200\n",
    "while (rango<=600):\n",
    "    if(rango % 6 ==0):\n",
    "        print(\"el numero es \", str(rango))\n",
    "        break\n",
    "    rango+=1"
   ]
  }
 ],
 "metadata": {
  "interpreter": {
   "hash": "c85384e4cb51c8b72350f3a8712cc8351fdc3955e32a27f9b60c6242ab125f01"
  },
  "kernelspec": {
   "display_name": "Python 3 (ipykernel)",
   "language": "python",
   "name": "python3"
  },
  "language_info": {
   "codemirror_mode": {
    "name": "ipython",
    "version": 3
   },
   "file_extension": ".py",
   "mimetype": "text/x-python",
   "name": "python",
   "nbconvert_exporter": "python",
   "pygments_lexer": "ipython3",
   "version": "3.12.1"
  }
 },
 "nbformat": 4,
 "nbformat_minor": 4
}
